{
 "cells": [
  {
   "cell_type": "code",
   "execution_count": null,
   "id": "d4f8ce92",
   "metadata": {},
   "outputs": [
    {
     "name": "stdout",
     "output_type": "stream",
     "text": [
      "cadbury_market.csv has been successfully created.\n"
     ]
    }
   ],
   "source": [
    "\n",
    "import pandas as pd\n",
    "\n",
    "# Create structured data as a list of dictionaries\n",
    "data = [\n",
    "    # Refreshment Beverages\n",
    "    {\"Segment\": \"Refreshment Beverages\", \"Product\": \"Bournvita\", \"Brand\": \"CADBURY BOURNVITA\", \"Exported\": \"No\"},\n",
    "    {\"Segment\": \"Refreshment Beverages\", \"Product\": \"Hot Chocolate\", \"Brand\": \"CADBURY 3-in-1 HOT CHOCOLATE\", \"Exported\": \"No\"},\n",
    "\n",
    "    # Confectionery\n",
    "    {\"Segment\": \"Confectionery\", \"Product\": \"Tom Tom\", \"Brand\": \"TOMTOM CLASSIC\", \"Exported\": \"No\"},\n",
    "    {\"Segment\": \"Confectionery\", \"Product\": \"Buttermint\", \"Brand\": \"BUTTERMINT\", \"Exported\": \"No\"},\n",
    "    {\"Segment\": \"Confectionery\", \"Product\": \"Tom Tom\", \"Brand\": \"TOMTOM STRAWBERRY\", \"Exported\": \"No\"},\n",
    "\n",
    "    # Intermediate Cocoa Products\n",
    "    {\"Segment\": \"Intermediate Cocoa Products\", \"Product\": \"Cocoa Powder\", \"Brand\": \"COCOA POWDER\", \"Exported\": \"Locally\"},\n",
    "    {\"Segment\": \"Intermediate Cocoa Products\", \"Product\": \"Cocoa Butter\", \"Brand\": \"COCOA BUTTER\", \"Exported\": \"International\"},\n",
    "    {\"Segment\": \"Intermediate Cocoa Products\", \"Product\": \"Cocoa Liquor\", \"Brand\": \"COCOA LIQUOR\", \"Exported\": \"International\"},\n",
    "    {\"Segment\": \"Intermediate Cocoa Products\", \"Product\": \"Cocoa Cake\", \"Brand\": \"COCOA CAKE\", \"Exported\": \"International\"},\n",
    "]\n",
    "\n",
    "# Create DataFrame\n",
    "df = pd.DataFrame(data)\n",
    "\n",
    "# Save to CSV\n",
    "df.to_csv(\"cadbury_market.csv\")\n",
    "\n",
    "\n"
   ]
  }
 ],
 "metadata": {
  "kernelspec": {
   "display_name": "Python 3",
   "language": "python",
   "name": "python3"
  },
  "language_info": {
   "codemirror_mode": {
    "name": "ipython",
    "version": 3
   },
   "file_extension": ".py",
   "mimetype": "text/x-python",
   "name": "python",
   "nbconvert_exporter": "python",
   "pygments_lexer": "ipython3",
   "version": "3.13.2"
  }
 },
 "nbformat": 4,
 "nbformat_minor": 5
}
